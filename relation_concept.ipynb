{
 "cells": [
  {
   "cell_type": "markdown",
   "metadata": {},
   "source": [
    "| Тип отношения               | Отношение         | Обратное отношение | Пример                                   | Описание                                                   | IFC / Онтология                     |\n",
    "|-----------------------------|-------------------|--------------------|------------------------------------------|-----------------------------------------------------------|--------------------------------------|\n",
    "| **Структурные**             |                   |                    |                                          |                                                           |                                      |\n",
    "|                             | isDecomposedBy    | decomposes         | Здание isDecomposedBy Этаж              | Иерархическая декомпозиция составных объектов (IfcRelAggregates) | IfcRelAggregates                   |\n",
    "|                             | isNestedBy        | nests              | Полка nests Модуль мебели               | Компонент вложен в составной объект (IfcRelNests)         | IfcRelNests                         |\n",
    "|                             | isPartOf          | hasPart            | Полотно isPartOf Дверь                  | Объект является частью другого (IfcRelAggregates)         | IfcRelAggregates                   |\n",
    "|                             | containedIn       | contains           | Розетка containedIn Комната             | Пространственное включение (IfcRelContainedInSpatialStructure) | IfcRelContainedInSpatialStructure |\n",
    "| **Функциональные и системные** |                   |                    |                                          |                                                           |                                      |\n",
    "|                             | isAssignedToGroup | hasGroupMember     | Насос isAssignedToGroup Система водоснабжения | Связь объекта с группой или системой (IfcRelAssignsToGroup) | IfcRelAssignsToGroup               |\n",
    "|                             | isComponentOf     | hasComponent       | Вентилятор isComponentOf Система вентиляции | Функциональный компонент системы                         | derived                             |\n",
    "|                             | isServedBy        | serves             | Помещение isServedBy Система вентиляции | Система обслуживает объект (IfcRelServicesBuildings)      | IfcRelServicesBuildings            |\n",
    "|                             | isControlledBy    | controls           | Освещение isControlledBy Выключатель    | Управление компонентом (IfcRelFlowControlElements)        | IfcRelFlowControlElements          |\n",
    "|                             | receivesFrom      | feeds              | Радиатор receivesFrom Труба             | Передача ресурса или потока                               | IfcRelConnectsElements             |\n",
    "| **Пространственные**        |                   |                    |                                          |                                                           |                                      |\n",
    "|                             | isLocatedIn       | hasSpatialElement  | Светильник isLocatedIn Комната          | Пространственное размещение (IfcRelContainedInSpatialStructure) | IfcRelContainedInSpatialStructure |\n",
    "|                             | adjacentTo        | adjacentTo         | Окно adjacentTo Стена                   | Объекты примыкают друг к другу (IfcRelSpaceBoundary)      | IfcRelSpaceBoundary                |\n",
    "|                             | projectsFrom      | hasProjection      | Козырёк projectsFrom Стена              | Выступающий элемент (IfcRelProjectsElement)              | IfcRelProjectsElement              |\n",
    "| **Соединения и потоки**     |                   |                    |                                          |                                                           |                                      |\n",
    "|                             | connectedTo       | connectedTo        | Труба connectedTo Вентиль               | Физическое соединение (IfcRelConnectsElements)            | IfcRelConnectsElements             |\n",
    "|                             | fills             | isFilledBy         | Дверь fills Проём                       | Заполнение проёма (IfcRelFillsElement)                   | IfcRelFillsElement                 |\n",
    "|                             | voids             | hasOpening         | Отверстие voids Плиту                   | Пустота в элементе (IfcRelVoidsElement)                  | IfcRelVoidsElement                 |\n",
    "|                             | flowsTo           | flowsFrom          | Воздуховод flowsTo Помещение            | Поток между элементами                                   | derived                             |\n",
    "| **Автоматизация и контроль** |                   |                    |                                          |                                                           |                                      |\n",
    "|                             | controlledBy      | controls           | Освещение controlledBy Выключатель      | Управление компонентом                                   | IfcRelFlowControlElements          |\n",
    "|                             | automatedBy       | automates          | Вентиляция automatedBy BMS              | Автоматизация системой управления                        | derived                             |\n",
    "|                             | hasSensor         | senses             | Помещение hasSensor Датчик              | Наличие сенсора                                           | SSN/SOSA                           |\n",
    "|                             | triggeredBy       | triggers           | Сигнал triggeredBy Датчик               | Автоматический запуск                                     | SSN/SOSA                           |\n",
    "|                             | hasActuator       | actuates           | HVAC hasActuator Привод                 | Наличие исполнительного механизма                        | SSN/SOSA                           |\n",
    "|                             | hasSchedule       | scheduledFor       | Свет hasSchedule Программа              | Расписание управления                                     | derived                             |\n",
    "|                             | hasState          |                    | Клапан hasState 'Открыт'                | Текущее состояние элемента                                | derived                             |\n",
    "| **Физика и механика**       |                   |                    |                                          |                                                           |                                      |\n",
    "|                             | feeds             | isFedBy            | Насос feeds Радиатор                    | Подача ресурса                                            | derived                             |\n",
    "|                             | connectsTo        | connectsTo         | Труба connectsTo Вентиль                | Физическое соединение                                     | IfcRelConnectsElements             |\n",
    "|                             | flowsTo           | flowsFrom          | Воздуховод flowsTo Комната              | Поток от/к объекту                                       | derived                             |\n",
    "|                             | containsMedium    |                    | Труба containsMedium Вода               | Внутри находится среда                                    | derived                             |\n",
    "|                             | hasPort           | connectedViaPort   | Устройство hasPort Подающий порт        | Интерфейс подключения                                     | IfcRelConnectsPort                 |\n",
    "|                             | isolatedBy        | isolates           | Секция трубы isolatedBy Клапан          | Изоляция участка                                          | derived                             |\n",
    "|                             | balances          | isBalancedBy       | Циркуляция isBalancedBy Вентиль         | Балансировка параметров                                   | derived                             |\n",
    "|                             | supportsLoadOf    | isSupportedBy      | Балка supportsLoadOf Перекрытие         | Передача физической нагрузки                              | derived                             |\n",
    "|                             | groundedTo        |                    | Панель groundedTo Контур                | Связь с заземлением                                       | derived                             |\n",
    "| **Сенсоры и мониторинг**    |                   |                    |                                          |                                                           |                                      |\n",
    "|                             | measures          | isMeasuredBy       | Датчик measures Температура             | Сенсор измеряет параметр                                  | SSN/SOSA                           |\n",
    "|                             | reportsTo         |                    | Датчик reportsTo Система                | Сенсор передаёт данные                                    | SSN/SOSA                           |\n",
    "|                             | sampledAt         |                    | Датчик sampledAt 5 секунд               | Частота измерения                                         | SSN/SOSA                           |\n",
    "|                             | hasUnit           |                    | Температура hasUnit °C                  | Единица измерения                                         | SSN/SOSA                           |\n"
   ]
  }
 ],
 "metadata": {
  "language_info": {
   "name": "python"
  }
 },
 "nbformat": 4,
 "nbformat_minor": 2
}
