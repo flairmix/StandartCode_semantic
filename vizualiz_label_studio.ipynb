{
 "cells": [
  {
   "cell_type": "code",
   "execution_count": 1,
   "metadata": {},
   "outputs": [],
   "source": [
    "import json\n",
    "import pandas as pd\n",
    "\n",
    "pd.set_option(\"display.max_columns\", None)\n",
    "pd.set_option(\"display.width\", 1000)"
   ]
  },
  {
   "cell_type": "code",
   "execution_count": 2,
   "metadata": {},
   "outputs": [],
   "source": [
    "def load_annotation_json(filepath):\n",
    "    \"\"\"\n",
    "    Загружает JSON-файл с аннотациями.\n",
    "    \n",
    "    :param filepath: путь к JSON-файлу\n",
    "    :return: данные JSON\n",
    "    \"\"\"\n",
    "    with open(filepath, 'r', encoding='utf-8') as f:\n",
    "        data = json.load(f)\n",
    "    return data"
   ]
  },
  {
   "cell_type": "code",
   "execution_count": 3,
   "metadata": {},
   "outputs": [],
   "source": [
    "def display_relations_table(data):\n",
    "    \"\"\"\n",
    "    Извлекает связи и отображает их в виде таблицы.\n",
    "    \n",
    "    :param data: данные JSON из Label Studio\n",
    "    :return: pandas.DataFrame со связями\n",
    "    \"\"\"\n",
    "    # Берём первую аннотацию (можно адаптировать под список)\n",
    "    results = data[0][\"annotations\"][0][\"result\"]\n",
    "    \n",
    "    # Индексируем сущности по их id\n",
    "    id_to_entity = {\n",
    "        item[\"id\"]: {\n",
    "            \"label\": item[\"value\"][\"labels\"][0],\n",
    "            \"text\": item[\"value\"][\"text\"]\n",
    "        }\n",
    "        for item in results if item[\"type\"] == \"labels\"\n",
    "    }\n",
    "    \n",
    "    # Собираем связи\n",
    "    relations = [\n",
    "        {\n",
    "            \"from_label\": id_to_entity[rel[\"from_id\"]][\"label\"],\n",
    "            \"from_text\": id_to_entity[rel[\"from_id\"]][\"text\"],\n",
    "            \"relation\": rel[\"labels\"][0],\n",
    "            \"to_text\": id_to_entity[rel[\"to_id\"]][\"text\"],\n",
    "            \"to_label\": id_to_entity[rel[\"to_id\"]][\"label\"]\n",
    "        }\n",
    "        for rel in results if rel[\"type\"] == \"relation\"\n",
    "    ]\n",
    "    \n",
    "    df = pd.DataFrame(relations)\n",
    "    return df"
   ]
  },
  {
   "cell_type": "code",
   "execution_count": 4,
   "metadata": {},
   "outputs": [],
   "source": [
    "from pyvis.network import Network\n",
    "\n",
    "def visualize_relations_pyvis(data, output_html=\"relations_graph.html\"):\n",
    "    df = display_relations_table(data)\n",
    "\n",
    "    net = Network(height=\"750px\", width=\"100%\", directed=True, notebook=False)\n",
    "    net.barnes_hut()\n",
    "    \n",
    "    added_nodes = set()\n",
    "\n",
    "    for _, row in df.iterrows():\n",
    "        from_node = f'{row[\"from_text\"]}\\n({row[\"from_label\"]})'\n",
    "        to_node = f'{row[\"to_text\"]}\\n({row[\"to_label\"]})'\n",
    "\n",
    "        if from_node not in added_nodes:\n",
    "            net.add_node(from_node, label=from_node)\n",
    "            added_nodes.add(from_node)\n",
    "        if to_node not in added_nodes:\n",
    "            net.add_node(to_node, label=to_node)\n",
    "            added_nodes.add(to_node)\n",
    "\n",
    "        net.add_edge(from_node, to_node, label=row[\"relation\"])\n",
    "\n",
    "    # 👇 Используем write_html без .generate_html()\n",
    "    net.write_html(output_html, notebook=False, open_browser=True)"
   ]
  },
  {
   "cell_type": "code",
   "execution_count": 5,
   "metadata": {},
   "outputs": [
    {
     "name": "stdout",
     "output_type": "stream",
     "text": [
      "       from_label          from_text             relation           to_text       to_label\n",
      "0   review_object  зальные помещения          isLocatedIn  высотных зданиях  building_type\n",
      "1   review_object  зальные помещения             PROPERTY       числом мест       property\n",
      "2   review_object  зальные помещения             PROPERTY           высоте        property\n",
      "3   review_object  зальные помещения             PROPERTY       числом мест       property\n",
      "4        property        числом мест            MIN_VALUE              300           value\n",
      "5        property        числом мест            MAX_VALUE              600           value\n",
      "6        property            высоте   LESS_OR_EQUAL_VALUE               12           value\n",
      "7           value                12                 UNITS                 м          units\n",
      "8        property        числом мест           LESS_VALUE              300           value\n",
      "9        property            высоте   LESS_OR_EQUAL_VALUE               50           value\n",
      "10          value                50                 UNITS                 м          units\n"
     ]
    }
   ],
   "source": [
    "path = \"project-2-at-2025-03-31-17-29-15d9f73c.json\"\n",
    "data = load_annotation_json(path)\n",
    "\n",
    "# Таблица связей\n",
    "df = display_relations_table(data)\n",
    "print(df)"
   ]
  },
  {
   "cell_type": "code",
   "execution_count": 6,
   "metadata": {},
   "outputs": [],
   "source": [
    "data = load_annotation_json(path)\n",
    "\n",
    "\n",
    "# Для интерактивной визуализации (откроется в браузере)\n",
    "visualize_relations_pyvis(data)"
   ]
  }
 ],
 "metadata": {
  "kernelspec": {
   "display_name": ".venv",
   "language": "python",
   "name": "python3"
  },
  "language_info": {
   "codemirror_mode": {
    "name": "ipython",
    "version": 3
   },
   "file_extension": ".py",
   "mimetype": "text/x-python",
   "name": "python",
   "nbconvert_exporter": "python",
   "pygments_lexer": "ipython3",
   "version": "3.12.9"
  }
 },
 "nbformat": 4,
 "nbformat_minor": 2
}
