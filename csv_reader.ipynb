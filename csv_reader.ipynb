{
 "cells": [
  {
   "cell_type": "code",
   "execution_count": null,
   "metadata": {},
   "outputs": [],
   "source": [
    "import pandas as pd\n",
    "import numpy as np\n",
    "import os\n",
    "from searcher.csv_embedding_searcher import CSVEmbeddingSearcher\n",
    "\n",
    "from sentence_transformers import SentenceTransformer, util"
   ]
  },
  {
   "cell_type": "code",
   "execution_count": null,
   "metadata": {},
   "outputs": [],
   "source": [
    "df = pd.read_csv('searcher\\\\data\\\\06_Com.csv', encoding='utf-8', sep=';')"
   ]
  },
  {
   "cell_type": "code",
   "execution_count": null,
   "metadata": {},
   "outputs": [],
   "source": [
    "df_class = df.dropna(subset=['Класс'])\n",
    "df_subclass1 = df.dropna(subset=['Подкласс 1'])\n",
    "df_subclass2 = df.dropna(subset=['Подкласс 2'])\n",
    "df_type = df.dropna(subset=['Тип (%%)'])\n"
   ]
  },
  {
   "cell_type": "code",
   "execution_count": null,
   "metadata": {},
   "outputs": [],
   "source": [
    "df_subclass2.to_csv('searcher\\\\data\\\\06_Com_subclass2.csv', encoding='utf-8', sep=';', index=False)"
   ]
  },
  {
   "cell_type": "code",
   "execution_count": null,
   "metadata": {},
   "outputs": [],
   "source": [
    "df_subclass2.head(5)"
   ]
  },
  {
   "cell_type": "code",
   "execution_count": null,
   "metadata": {},
   "outputs": [],
   "source": [
    "\n",
    "searcher = CSVEmbeddingSearcher(\"searcher\\\\data\\\\06_Com_subclass2.csv\", \"Наименование\")"
   ]
  },
  {
   "cell_type": "code",
   "execution_count": null,
   "metadata": {},
   "outputs": [],
   "source": [
    "query_text = \"окно\"\n",
    "top_k = 10\n",
    "\n",
    "results = searcher.search_nearest(query_text, top_k)\n",
    "print(results)"
   ]
  },
  {
   "cell_type": "code",
   "execution_count": null,
   "metadata": {},
   "outputs": [],
   "source": [
    "print(f\"\\nТоп-{top_k} результатов поиска для запроса: '{query_text}'\")\n",
    "for res in results:\n",
    "    print(f\"- Индекс: {res['index']}, Сходство: {res['similarity']:.3f}, Наименование: {res['Наименование']}, KSI: {res['Подкласс 2']}\")"
   ]
  }
 ],
 "metadata": {
  "kernelspec": {
   "display_name": ".venv",
   "language": "python",
   "name": "python3"
  },
  "language_info": {
   "codemirror_mode": {
    "name": "ipython",
    "version": 3
   },
   "file_extension": ".py",
   "mimetype": "text/x-python",
   "name": "python",
   "nbconvert_exporter": "python",
   "pygments_lexer": "ipython3",
   "version": "3.12.9"
  }
 },
 "nbformat": 4,
 "nbformat_minor": 2
}
